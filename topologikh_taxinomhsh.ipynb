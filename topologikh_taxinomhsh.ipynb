{
  "nbformat": 4,
  "nbformat_minor": 0,
  "metadata": {
    "colab": {
      "provenance": [],
      "authorship_tag": "ABX9TyMmpYMbSokHJCKpVluDQGzB",
      "include_colab_link": true
    },
    "kernelspec": {
      "name": "python3",
      "display_name": "Python 3"
    },
    "language_info": {
      "name": "python"
    }
  },
  "cells": [
    {
      "cell_type": "markdown",
      "metadata": {
        "id": "view-in-github",
        "colab_type": "text"
      },
      "source": [
        "<a href=\"https://colab.research.google.com/github/VoskopoulouMaria/Algorithms/blob/main/topologikh_taxinomhsh.ipynb\" target=\"_parent\"><img src=\"https://colab.research.google.com/assets/colab-badge.svg\" alt=\"Open In Colab\"/></a>"
      ]
    },
    {
      "cell_type": "markdown",
      "source": [
        "**Τοπολογική ταξινόμηση σε Python για τη διάταξη θεματικών ενοτήτων μαθήματος Microsoft Excel **"
      ],
      "metadata": {
        "id": "FF_jbemr54Zh"
      }
    },
    {
      "cell_type": "markdown",
      "source": [
        "Ο αλγόριθμος τοπολογικής ταξινόμησης μπορεί να εφαρμοστεί σε έναν πίνακα Excel, όπου έχουμε συγκεντρώσει 11 θεματικές ενότητες για τη διδασκαλία μαθήματος του Excel με στόχο να οργανωθεί μια ιδανική διάταξη των ενοτήτων.\n",
        "![συγχώνευση θεματικών πεδιων Excel_ google colab.png](data:image/png;base64,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)"
      ],
      "metadata": {
        "id": "3M4LOpvG4qDq"
      }
    },
    {
      "cell_type": "markdown",
      "source": [
        " Ο αλγόριθμος τοπολογικής  ταξινόμησης δίνεται παρακάτω :"
      ],
      "metadata": {
        "id": "AGzIFLKT7V3k"
      }
    },
    {
      "cell_type": "code",
      "execution_count": null,
      "metadata": {
        "colab": {
          "base_uri": "https://localhost:8080/"
        },
        "id": "DANqkwCk3HJx",
        "outputId": "5489397f-58b0-41e8-8002-13abf15bab90"
      },
      "outputs": [
        {
          "output_type": "stream",
          "name": "stdout",
          "text": [
            "(1, 2)\n",
            "(1, 3)\n",
            "(1, 4)\n",
            "(1, 5)\n",
            "(1, 6)\n",
            "(1, 7)\n",
            "(1, 8)\n",
            "(1, 9)\n",
            "(1, 10)\n",
            "(1, 11)\n",
            "(2, 3)\n",
            "(2, 4)\n",
            "(2, 5)\n",
            "(2, 7)\n",
            "(2, 8)\n",
            "(2, 9)\n",
            "(2, 10)\n",
            "(2, 11)\n",
            "(3, 5)\n",
            "(3, 7)\n",
            "(3, 8)\n",
            "(3, 9)\n",
            "(3, 10)\n",
            "(3, 11)\n",
            "(4, 5)\n",
            "(4, 9)\n",
            "(4, 10)\n",
            "(4, 11)\n",
            "(5, 8)\n",
            "(5, 9)\n",
            "(5, 10)\n",
            "(5, 11)\n",
            "(6, 7)\n",
            "(6, 8)\n",
            "(6, 9)\n",
            "(6, 10)\n",
            "(7, 10)\n",
            "(8, 9)\n",
            "(8, 10)\n",
            "(9, 10)\n",
            "(10, 11)\n",
            "Following is a Topological Sort of the given graph\n",
            "1\n",
            "6\n",
            "2\n",
            "4\n",
            "3\n",
            "7\n",
            "5\n",
            "8\n",
            "9\n",
            "10\n",
            "11\n"
          ]
        }
      ],
      "source": [
        "#Python program to print topological sorting of a DAG\n",
        "# https://www.geeksforgeeks.org/python-program-for-topological-sorting/\n",
        "from collections import defaultdict\n",
        "\n",
        "#Class to represent a graph\n",
        "class Graph:\n",
        "\tdef __init__(self,vertices):\n",
        "\t\tself.graph = defaultdict(list) #dictionary containing adjacency List\n",
        "\t\tself.V = vertices #No. of vertices\n",
        "\n",
        "\t# function to add an edge to graph\n",
        "\tdef addEdge(self,u,v):\n",
        "\t\tself.graph[u].append(v)\n",
        "\n",
        "\t# A recursive function used by topologicalSort\n",
        "\tdef topologicalSortUtil(self,v,visited,stack):\n",
        "\n",
        "\t\t# Mark the current node as visited.\n",
        "\t\tvisited[v] = True\n",
        "\n",
        "\t\t# Recur for all the vertices adjacent to this vertex\n",
        "\t\tfor i in self.graph[v]:\n",
        "\t\t\tif visited[i] == False:\n",
        "\t\t\t\tself.topologicalSortUtil(i,visited,stack)\n",
        "\n",
        "\t\t# Push current vertex to stack which stores result\n",
        "\t\tstack.insert(0,v)\n",
        "\n",
        "\t# The function to do Topological Sort. It uses recursive\n",
        "\t# topologicalSortUtil()\n",
        "\tdef topologicalSort(self):\n",
        "\t\t# Mark all the vertices as not visited\n",
        "\t\tvisited = [False]*self.V\n",
        "\t\tstack =[]\n",
        "\n",
        "\t\t# Call the recursive helper function to store Topological\n",
        "\t\t# Sort starting from all vertices one by one\n",
        "\t\tfor i in range(self.V):\n",
        "\t\t\tif visited[i] == False:\n",
        "\t\t\t\tself.topologicalSortUtil(i,visited,stack)\n",
        "\n",
        "\t\t# Print contents of stack\n",
        "\t\tfor x in stack: print (x+1)\n",
        "\n",
        "T = [(1,2), (1,3), (1,4), (1,5), (1,6), (1,7), (1,8), (1,9), (1,10), (1,11), (2,3), (2,4), (2,5), (2,7), (2,8), (2,9), (2,10), (2,11), (3,5), (3,7), (3,8), (3,9), (3,10), (3,11), (4,5), (4,9), (4,10), (4,11), (5,8), (5,9), (5,10), (5,11), (6,7), (6,8), (6,9), (6,10), (7,10), (8,9), (8,10), (9,10), (10,11)]\n",
        "g= Graph(11)\n",
        "for x in T:\n",
        "    print(x)\n",
        "    g.addEdge(x[0]-1,x[1]-1);\n",
        "\n",
        "print (\"Following is a Topological Sort of the given graph\")\n",
        "g.topologicalSort()\n",
        "\n",
        "\n"
      ]
    },
    {
      "cell_type": "markdown",
      "source": [
        "Οι θεματικές ενότητες διαμορφώνονται σύμφωνα με την έξοδο του αλγορίθμου, οπότε προκύπτει η τελική διάταξη την οποία και χρησιμοποιούμε για τη δημιουργία διδακτικού υλικού στα πλαίσια συγγραφής Διπλωματικής Εργασίας για τους Ανοικτούς Εκπαιδευτικούς Πόρους."
      ],
      "metadata": {
        "id": "2CawgmHv7wXJ"
      }
    }
  ]
}