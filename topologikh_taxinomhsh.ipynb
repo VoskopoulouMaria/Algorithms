{
  "nbformat": 4,
  "nbformat_minor": 0,
  "metadata": {
    "colab": {
      "provenance": [],
      "authorship_tag": "ABX9TyOJn9jFGbV/fMKgE0ZUitD8",
      "include_colab_link": true
    },
    "kernelspec": {
      "name": "python3",
      "display_name": "Python 3"
    },
    "language_info": {
      "name": "python"
    }
  },
  "cells": [
    {
      "cell_type": "markdown",
      "metadata": {
        "id": "view-in-github",
        "colab_type": "text"
      },
      "source": [
        "<a href=\"https://colab.research.google.com/github/VoskopoulouMaria/topologikh_taxinomhsh/blob/main/topologikh_taxinomhsh.ipynb\" target=\"_parent\"><img src=\"https://colab.research.google.com/assets/colab-badge.svg\" alt=\"Open In Colab\"/></a>"
      ]
    },
    {
      "cell_type": "code",
      "execution_count": null,
      "metadata": {
        "colab": {
          "base_uri": "https://localhost:8080/"
        },
        "id": "DANqkwCk3HJx",
        "outputId": "5489397f-58b0-41e8-8002-13abf15bab90"
      },
      "outputs": [
        {
          "output_type": "stream",
          "name": "stdout",
          "text": [
            "(1, 2)\n",
            "(1, 3)\n",
            "(1, 4)\n",
            "(1, 5)\n",
            "(1, 6)\n",
            "(1, 7)\n",
            "(1, 8)\n",
            "(1, 9)\n",
            "(1, 10)\n",
            "(1, 11)\n",
            "(2, 3)\n",
            "(2, 4)\n",
            "(2, 5)\n",
            "(2, 7)\n",
            "(2, 8)\n",
            "(2, 9)\n",
            "(2, 10)\n",
            "(2, 11)\n",
            "(3, 5)\n",
            "(3, 7)\n",
            "(3, 8)\n",
            "(3, 9)\n",
            "(3, 10)\n",
            "(3, 11)\n",
            "(4, 5)\n",
            "(4, 9)\n",
            "(4, 10)\n",
            "(4, 11)\n",
            "(5, 8)\n",
            "(5, 9)\n",
            "(5, 10)\n",
            "(5, 11)\n",
            "(6, 7)\n",
            "(6, 8)\n",
            "(6, 9)\n",
            "(6, 10)\n",
            "(7, 10)\n",
            "(8, 9)\n",
            "(8, 10)\n",
            "(9, 10)\n",
            "(10, 11)\n",
            "Following is a Topological Sort of the given graph\n",
            "1\n",
            "6\n",
            "2\n",
            "4\n",
            "3\n",
            "7\n",
            "5\n",
            "8\n",
            "9\n",
            "10\n",
            "11\n"
          ]
        }
      ],
      "source": [
        "#Python program to print topological sorting of a DAG\n",
        "# https://www.geeksforgeeks.org/python-program-for-topological-sorting/\n",
        "from collections import defaultdict\n",
        "\n",
        "#Class to represent a graph\n",
        "class Graph:\n",
        "\tdef __init__(self,vertices):\n",
        "\t\tself.graph = defaultdict(list) #dictionary containing adjacency List\n",
        "\t\tself.V = vertices #No. of vertices\n",
        "\n",
        "\t# function to add an edge to graph\n",
        "\tdef addEdge(self,u,v):\n",
        "\t\tself.graph[u].append(v)\n",
        "\n",
        "\t# A recursive function used by topologicalSort\n",
        "\tdef topologicalSortUtil(self,v,visited,stack):\n",
        "\n",
        "\t\t# Mark the current node as visited.\n",
        "\t\tvisited[v] = True\n",
        "\n",
        "\t\t# Recur for all the vertices adjacent to this vertex\n",
        "\t\tfor i in self.graph[v]:\n",
        "\t\t\tif visited[i] == False:\n",
        "\t\t\t\tself.topologicalSortUtil(i,visited,stack)\n",
        "\n",
        "\t\t# Push current vertex to stack which stores result\n",
        "\t\tstack.insert(0,v)\n",
        "\n",
        "\t# The function to do Topological Sort. It uses recursive\n",
        "\t# topologicalSortUtil()\n",
        "\tdef topologicalSort(self):\n",
        "\t\t# Mark all the vertices as not visited\n",
        "\t\tvisited = [False]*self.V\n",
        "\t\tstack =[]\n",
        "\n",
        "\t\t# Call the recursive helper function to store Topological\n",
        "\t\t# Sort starting from all vertices one by one\n",
        "\t\tfor i in range(self.V):\n",
        "\t\t\tif visited[i] == False:\n",
        "\t\t\t\tself.topologicalSortUtil(i,visited,stack)\n",
        "\n",
        "\t\t# Print contents of stack\n",
        "\t\tfor x in stack: print (x+1)\n",
        "\n",
        "T = [(1,2), (1,3), (1,4), (1,5), (1,6), (1,7), (1,8), (1,9), (1,10), (1,11), (2,3), (2,4), (2,5), (2,7), (2,8), (2,9), (2,10), (2,11), (3,5), (3,7), (3,8), (3,9), (3,10), (3,11), (4,5), (4,9), (4,10), (4,11), (5,8), (5,9), (5,10), (5,11), (6,7), (6,8), (6,9), (6,10), (7,10), (8,9), (8,10), (9,10), (10,11)]\n",
        "g= Graph(11)\n",
        "for x in T:\n",
        "    print(x)\n",
        "    g.addEdge(x[0]-1,x[1]-1);\n",
        "\n",
        "print (\"Following is a Topological Sort of the given graph\")\n",
        "g.topologicalSort()\n",
        "\n",
        "\n"
      ]
    }
  ]
}